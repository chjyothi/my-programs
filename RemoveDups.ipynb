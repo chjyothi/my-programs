def removeDups(arr, n): 
  
   
    #if array is empty or having single element it returns
    if n == 0 or n == 1: 
        return n 
  
    temp = list(range(n)) 
  
    # Start traversing elements 
    j = 0; 
    for i in range(0, n-1): 
  

        #it check for the current element is not equal to next one
        if arr[i] != arr[i+1]: 
            temp[j] = arr[i] 
            j += 1
  
    #store the last element as wether is unique or repeatwed
    temp[j] = arr[n-1] 
    j += 1
      
    # updating  original array 
    for i in range(0, j): 
        arr[i] = temp[i] 
  
    return j 
  
# Driver code 
arr = [1, 2, 2, 3, 4, 4, 4, 5, 5] 
n = len(arr) 
  

# new size of array. 
n = removeDups(arr, n) 
  
# Printing array 
for i in range(n): 
    print ("%d"%(arr[i]), end = " ") 